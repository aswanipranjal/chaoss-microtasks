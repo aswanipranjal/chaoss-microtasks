{
 "cells": [
  {
   "cell_type": "markdown",
   "metadata": {},
   "source": [
    "### This is Microtask-1 for the project: Reporting of CHAOSS Metrics."
   ]
  },
  {
   "cell_type": "code",
   "execution_count": 1,
   "metadata": {},
   "outputs": [],
   "source": [
    "from datetime import datetime, timedelta\n",
    "from elasticsearch import Elasticsearch\n",
    "from pprint import pprint\n",
    "from dateutil.relativedelta import relativedelta\n",
    "from calendar import monthrange, month_name\n",
    "from collections import defaultdict, OrderedDict\n",
    "\n",
    "es = Elasticsearch(\"localhost:9200\")"
   ]
  },
  {
   "cell_type": "code",
   "execution_count": 2,
   "metadata": {},
   "outputs": [],
   "source": [
    "def get_all_commit_records(index=None, custom_source=False):\n",
    "    \"Queries the elasticsearch instance and returns all the documents it has indexed.\"\n",
    "    \n",
    "    temp_res = es.search(index=index, body={\"query\":{\"match_all\":{}}})\n",
    "    size = temp_res[\"hits\"][\"total\"]\n",
    "    query = {\n",
    "                \"size\":size, \n",
    "                \"query\":\n",
    "                        {\n",
    "                            \"match_all\":{}\n",
    "                        }\n",
    "    }\n",
    "    # Use custom source so that the result is smaller in size\n",
    "    if custom_source:\n",
    "        query[\"_source\"] = [\"author_name\", \"committer_name\", \"commit_date\", \"is_git_commit\", \"lines_added\", \n",
    "                            \"lines_changed\", \"lines_removed\", \"utc_commit\", \"grimoire_creation_date\"]\n",
    "        \n",
    "    res = es.search(index=index, body=query)\n",
    "    return [res[\"hits\"][\"hits\"][i][\"_source\"] for i in range(res[\"hits\"][\"total\"])]"
   ]
  },
  {
   "cell_type": "code",
   "execution_count": 3,
   "metadata": {},
   "outputs": [],
   "source": [
    "result = get_all_commit_records(\"aima_python_git\", True)"
   ]
  },
  {
   "cell_type": "markdown",
   "metadata": {},
   "source": [
    "#### This is what a document looks like"
   ]
  },
  {
   "cell_type": "code",
   "execution_count": 4,
   "metadata": {},
   "outputs": [
    {
     "data": {
      "text/plain": [
       "{'author_name': 'spottedMetal',\n",
       " 'commit_date': '2007-07-13T21:12:24',\n",
       " 'committer_name': 'spottedMetal',\n",
       " 'grimoire_creation_date': '2007-07-13T21:12:24+00:00',\n",
       " 'is_git_commit': 1,\n",
       " 'lines_added': 181,\n",
       " 'lines_changed': 247,\n",
       " 'lines_removed': 66,\n",
       " 'utc_commit': '2007-07-13T21:12:24'}"
      ]
     },
     "execution_count": 4,
     "metadata": {},
     "output_type": "execute_result"
    }
   ],
   "source": [
    "result[0]"
   ]
  },
  {
   "cell_type": "markdown",
   "metadata": {},
   "source": [
    "Custom functions to parse dates, get start and end of months and dividing commits according to the months in which they were made"
   ]
  },
  {
   "cell_type": "code",
   "execution_count": 26,
   "metadata": {},
   "outputs": [],
   "source": [
    "def parse_date(date, custom_format=None):\n",
    "    \"\"\"Returns a datetime.datetime object from a string. \n",
    "    custom_format for the date can be given as input\"\"\"\n",
    "    \n",
    "    if custom_format:\n",
    "        return datetime.strptime(date, custom_format)\n",
    "    return datetime.strptime(date, \"%Y-%m-%dT%H:%M:%S\")"
   ]
  },
  {
   "cell_type": "code",
   "execution_count": 22,
   "metadata": {},
   "outputs": [],
   "source": [
    "def get_end_date_of_month(date):\n",
    "    \"Given a date, return the end date of the month\"\n",
    "    return date + relativedelta(days = +(monthrange(date.year, date.month)[1] - date.day))"
   ]
  },
  {
   "cell_type": "code",
   "execution_count": 23,
   "metadata": {},
   "outputs": [],
   "source": [
    "def get_start_date_of_month(date):\n",
    "    \"Given a date, return the start date of the month\"\n",
    "    return date - relativedelta(days = +date.day-1)"
   ]
  },
  {
   "cell_type": "code",
   "execution_count": 24,
   "metadata": {},
   "outputs": [],
   "source": [
    "def get_bucket_name(date):\n",
    "    \"Given a date return the a name in the form of MonthYYYY\"\n",
    "    return month_name[date.month] + str(date.year)"
   ]
  },
  {
   "cell_type": "code",
   "execution_count": 25,
   "metadata": {},
   "outputs": [],
   "source": [
    "def get_extreme_commits_dates(commit_list):\n",
    "    \"Given a list of commits, return the dates of the first and the last commits\"\n",
    "    fc_date = min(parse_date(item['commit_date']) for item in result)\n",
    "    lc_date = max(parse_date(item['commit_date']) for item in result)\n",
    "    return fc_date, lc_date"
   ]
  },
  {
   "cell_type": "code",
   "execution_count": 27,
   "metadata": {},
   "outputs": [],
   "source": [
    "def make_buckets(commit_list):\n",
    "    \"\"\"Given a list of commits, return containers of months from when \n",
    "    the project was started to the month of the latest commit. Each container \n",
    "    is a month and details about all the commits and committers for that month.\"\"\"\n",
    "    \n",
    "    buckets = OrderedDict()\n",
    "    \n",
    "    first_date, last_date = get_extreme_commits_dates(commit_list)\n",
    "    \n",
    "    month_start_date = get_start_date_of_month(first_date)\n",
    "    month_end_date = get_end_date_of_month(first_date)\n",
    "    bucket_name = get_bucket_name(first_date)\n",
    "    \n",
    "    while month_end_date <= last_date:\n",
    "        commit = {}\n",
    "        commit[\"start\"] = month_start_date\n",
    "        commit[\"end\"] = month_end_date\n",
    "        commit['new_committers'] = defaultdict(int)\n",
    "        commit['old_committers'] = defaultdict(int)\n",
    "        commit['commits'] = []\n",
    "        buckets[bucket_name] = commit\n",
    "        \n",
    "        month_start_date = month_end_date + relativedelta(days=+1)\n",
    "        month_end_date = get_end_date_of_month(month_start_date)\n",
    "        bucket_name = get_bucket_name(month_start_date)\n",
    "    \n",
    "    commit = {}\n",
    "    commit[\"start\"] = month_start_date\n",
    "    commit[\"end\"] = month_end_date\n",
    "    commit['new_committers'] = defaultdict(int)\n",
    "    commit['old_committers'] = defaultdict(int)\n",
    "    commit['commits'] = []\n",
    "    buckets[bucket_name] = commit\n",
    "    \n",
    "    return buckets"
   ]
  },
  {
   "cell_type": "code",
   "execution_count": 28,
   "metadata": {},
   "outputs": [],
   "source": [
    "def distribute_commits_in_buckets(commit_list):\n",
    "    \"Distribute the commits to the months in which they were made.\"\n",
    "    months = make_buckets(commit_list)\n",
    "    \n",
    "    for commit in commit_list:\n",
    "        month = get_bucket_name(parse_date(commit['commit_date']))\n",
    "        months[month][\"commits\"].append(commit)\n",
    "    \n",
    "    return months"
   ]
  },
  {
   "cell_type": "markdown",
   "metadata": {},
   "source": [
    "Main function which calculates the number of new committers for each month"
   ]
  },
  {
   "cell_type": "code",
   "execution_count": 29,
   "metadata": {},
   "outputs": [],
   "source": [
    "def analyse_repository(commit_list):\n",
    "    months = distribute_commits_in_buckets(commit_list)\n",
    "    all_committers = []\n",
    "    \n",
    "    for name, month in months.items():\n",
    "        for commit in month['commits']:\n",
    "            committer = commit['author_name']\n",
    "            if committer in all_committers:\n",
    "                month['old_committers'][committer] += 1\n",
    "            else:\n",
    "                month['new_committers'][committer] += 1\n",
    "        all_committers = list(set(all_committers + list(month['old_committers'].keys()) + \n",
    "                                  list(month['new_committers'].keys())))\n",
    "                \n",
    "    return months"
   ]
  },
  {
   "cell_type": "code",
   "execution_count": 30,
   "metadata": {},
   "outputs": [],
   "source": [
    "Output = analyse_repository(result)"
   ]
  }
 ],
 "metadata": {
  "kernelspec": {
   "display_name": "Python 3",
   "language": "python",
   "name": "python3"
  },
  "language_info": {
   "codemirror_mode": {
    "name": "ipython",
    "version": 3
   },
   "file_extension": ".py",
   "mimetype": "text/x-python",
   "name": "python",
   "nbconvert_exporter": "python",
   "pygments_lexer": "ipython3",
   "version": "3.6.3"
  }
 },
 "nbformat": 4,
 "nbformat_minor": 2
}
