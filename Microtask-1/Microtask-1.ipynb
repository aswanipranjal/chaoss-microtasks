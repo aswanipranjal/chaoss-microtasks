{
 "cells": [
  {
   "cell_type": "markdown",
   "metadata": {},
   "source": [
    "### This is Microtask-1 for the project: Reporting of CHAOSS Metrics."
   ]
  },
  {
   "cell_type": "code",
   "execution_count": 16,
   "metadata": {},
   "outputs": [],
   "source": [
    "from datetime import datetime, timedelta\n",
    "from elasticsearch import Elasticsearch\n",
    "from pprint import pprint\n",
    "from dateutil.relativedelta import relativedelta\n",
    "from calendar import monthrange, month_name\n",
    "from collections import defaultdict, OrderedDict\n",
    "import pandas as pd\n",
    "\n",
    "es = Elasticsearch(\"localhost:9200\")\n",
    "\n",
    "index_name = \"aima_python_git\""
   ]
  },
  {
   "cell_type": "markdown",
   "metadata": {},
   "source": [
    "We will uery the index that we created as shown in the README.md  \n",
    "We'd like to get **all** the commits in our index."
   ]
  },
  {
   "cell_type": "code",
   "execution_count": 3,
   "metadata": {},
   "outputs": [],
   "source": [
    "def get_all_commit_records(index=None, custom_source=False):\n",
    "    \"Queries the elasticsearch instance and returns all the documents it has indexed.\"\n",
    "    \n",
    "    temp_res = es.search(index=index, body={\"query\":{\"match_all\":{}}})\n",
    "    size = temp_res[\"hits\"][\"total\"]\n",
    "    query = {\n",
    "                \"size\":size, \n",
    "                \"query\":\n",
    "                        {\n",
    "                            \"match_all\":{}\n",
    "                        }\n",
    "    }\n",
    "    # Use custom source so that the result is smaller in size\n",
    "    if custom_source:\n",
    "        query[\"_source\"] = [\"author_name\", \"committer_name\", \"commit_date\", \"is_git_commit\", \"lines_added\", \n",
    "                            \"lines_changed\", \"lines_removed\", \"utc_commit\", \"grimoire_creation_date\"]\n",
    "        \n",
    "    res = es.search(index=index, body=query)\n",
    "    return [res[\"hits\"][\"hits\"][i][\"_source\"] for i in range(res[\"hits\"][\"total\"])]"
   ]
  },
  {
   "cell_type": "markdown",
   "metadata": {},
   "source": [
    "We store it in *result* variable"
   ]
  },
  {
   "cell_type": "code",
   "execution_count": 17,
   "metadata": {},
   "outputs": [],
   "source": [
    "result = get_all_commit_records(index_name, True)"
   ]
  },
  {
   "cell_type": "markdown",
   "metadata": {},
   "source": [
    "#### This is what a document looks like"
   ]
  },
  {
   "cell_type": "code",
   "execution_count": 5,
   "metadata": {},
   "outputs": [
    {
     "data": {
      "text/plain": [
       "{'author_name': 'spottedMetal',\n",
       " 'commit_date': '2007-07-13T21:12:24',\n",
       " 'committer_name': 'spottedMetal',\n",
       " 'grimoire_creation_date': '2007-07-13T21:12:24+00:00',\n",
       " 'is_git_commit': 1,\n",
       " 'lines_added': 181,\n",
       " 'lines_changed': 247,\n",
       " 'lines_removed': 66,\n",
       " 'utc_commit': '2007-07-13T21:12:24'}"
      ]
     },
     "execution_count": 5,
     "metadata": {},
     "output_type": "execute_result"
    }
   ],
   "source": [
    "result[0]"
   ]
  },
  {
   "cell_type": "markdown",
   "metadata": {},
   "source": [
    "Custom functions to parse dates, get start and end dates of months and to divide commits according to the months in which they were made"
   ]
  },
  {
   "cell_type": "code",
   "execution_count": 6,
   "metadata": {},
   "outputs": [],
   "source": [
    "def parse_date(date, custom_format=None):\n",
    "    \"\"\"Returns a datetime.datetime object from a string. \n",
    "    custom_format for the date can be given as input\"\"\"\n",
    "    \n",
    "    if custom_format:\n",
    "        return datetime.strptime(date, custom_format)\n",
    "    return datetime.strptime(date, \"%Y-%m-%dT%H:%M:%S\")"
   ]
  },
  {
   "cell_type": "code",
   "execution_count": 7,
   "metadata": {},
   "outputs": [],
   "source": [
    "def get_end_date_of_month(date):\n",
    "    \"Given a date, return the end date of the month\"\n",
    "    return date + relativedelta(days = +(monthrange(date.year, date.month)[1] - date.day))"
   ]
  },
  {
   "cell_type": "code",
   "execution_count": 8,
   "metadata": {},
   "outputs": [],
   "source": [
    "def get_start_date_of_month(date):\n",
    "    \"Given a date, return the start date of the month\"\n",
    "    return date - relativedelta(days = +date.day-1)"
   ]
  },
  {
   "cell_type": "code",
   "execution_count": 9,
   "metadata": {},
   "outputs": [],
   "source": [
    "def get_bucket_name(date):\n",
    "    \"Given a date return the a name in the form of MonthYYYY\"\n",
    "    return month_name[date.month] + str(date.year)"
   ]
  },
  {
   "cell_type": "code",
   "execution_count": 10,
   "metadata": {},
   "outputs": [],
   "source": [
    "def get_extreme_commits_dates(commit_list):\n",
    "    \"Given a list of commits, return the dates of the first and the last commits\"\n",
    "    \n",
    "    fc_date = min(parse_date(item['commit_date']) for item in result)\n",
    "    lc_date = max(parse_date(item['commit_date']) for item in result)\n",
    "    return fc_date, lc_date"
   ]
  },
  {
   "cell_type": "code",
   "execution_count": 11,
   "metadata": {},
   "outputs": [],
   "source": [
    "def make_buckets(first_date, last_date):\n",
    "    \"\"\"Given the project start date and the last commit date, return \n",
    "    containers for months in between those dates. Each container is a month \n",
    "    containing details about all the commits and committers for that month.\"\"\"\n",
    "    \n",
    "    buckets = OrderedDict()\n",
    "    \n",
    "    month_start_date = get_start_date_of_month(first_date)\n",
    "    month_end_date = get_end_date_of_month(first_date)\n",
    "    bucket_name = get_bucket_name(first_date)\n",
    "    \n",
    "    while month_end_date <= last_date:\n",
    "        commit = {}\n",
    "        commit['new_committers'] = defaultdict(int)\n",
    "        commit['old_committers'] = defaultdict(int)\n",
    "        commit['commits'] = []\n",
    "        buckets[bucket_name] = commit\n",
    "        \n",
    "        month_start_date = month_end_date + relativedelta(days=+1)\n",
    "        month_end_date = get_end_date_of_month(month_start_date)\n",
    "        bucket_name = get_bucket_name(month_start_date)\n",
    "    \n",
    "    commit = {}\n",
    "    commit['new_committers'] = defaultdict(int)\n",
    "    commit['old_committers'] = defaultdict(int)\n",
    "    commit['commits'] = []\n",
    "    buckets[bucket_name] = commit\n",
    "    \n",
    "    return buckets"
   ]
  },
  {
   "cell_type": "code",
   "execution_count": 12,
   "metadata": {},
   "outputs": [],
   "source": [
    "def analyse_repository(commit_list):\n",
    "    \n",
    "    first_date, last_date = get_extreme_commits_dates(commit_list)\n",
    "    \n",
    "    months = make_buckets(first_date, last_date)\n",
    "    \n",
    "    for commit in commit_list:\n",
    "        month = get_bucket_name(parse_date(commit['commit_date']))\n",
    "        months[month][\"commits\"].append(commit)\n",
    "        \n",
    "    all_committers = []\n",
    "    \n",
    "    for name, month in months.items():\n",
    "        for commit in month['commits']:\n",
    "            committer = commit['author_name']\n",
    "            if committer in all_committers:\n",
    "                month['old_committers'][committer] += 1\n",
    "            else:\n",
    "                month['new_committers'][committer] += 1\n",
    "        all_committers = list(set(all_committers + list(month['old_committers'].keys()) + \n",
    "                                  list(month['new_committers'].keys())))\n",
    "        del month['commits']\n",
    "                \n",
    "    return months"
   ]
  },
  {
   "cell_type": "code",
   "execution_count": 13,
   "metadata": {},
   "outputs": [],
   "source": [
    "def get_table_from_dict(commit_dict):\n",
    "    table = []\n",
    "    for month_name, month in commit_dict.items():\n",
    "        ls = []\n",
    "        for key, val in month['new_committers'].items():\n",
    "            item = {}\n",
    "            item['month'] = month_name\n",
    "            item[\"Author of commit\"] = key\n",
    "            item['Number of commits'] = val\n",
    "            ls.append(item)\n",
    "        table = table + ls\n",
    "    \n",
    "    return pd.DataFrame(table)"
   ]
  },
  {
   "cell_type": "code",
   "execution_count": 14,
   "metadata": {},
   "outputs": [],
   "source": [
    "Output = analyse_repository(result)"
   ]
  },
  {
   "cell_type": "code",
   "execution_count": 18,
   "metadata": {},
   "outputs": [],
   "source": [
    "table = get_table_from_dict(Output)"
   ]
  },
  {
   "cell_type": "code",
   "execution_count": 19,
   "metadata": {},
   "outputs": [
    {
     "name": "stdout",
     "output_type": "stream",
     "text": [
      "             Author of commit  Number of commits          month\n",
      "0                peter.norvig                  1       June2007\n",
      "1                spottedMetal                 18       July2007\n",
      "2                    srburnet                  1        May2010\n",
      "3                      withal                 13     August2011\n",
      "4                      norvig                  3   February2016\n",
      "5                 greyshadows                  1      March2016\n",
      "6               abhishek garg                  2      March2016\n",
      "7                     utk1610                  1      March2016\n",
      "8                     SnShine                 33      March2016\n",
      "9                   Tamer Tas                  5      March2016\n",
      "10              Nishant Suman                  2      March2016\n",
      "11                     MircoT                 16      March2016\n",
      "12                   jeff3456                  8      March2016\n",
      "13                    Yu Ting                  3      March2016\n",
      "14                Tarun Kumar                 18      March2016\n",
      "15                     Chipe1                 25      March2016\n",
      "16              Chirag Vartak                 36      March2016\n",
      "17           Sidharth Sindhra                  8      March2016\n",
      "18               Peter Norvig                 21      March2016\n",
      "19          Toluwanimi Salako                  2      March2016\n",
      "20                   Larry He                 12      March2016\n",
      "21                 tolusalako                  5      March2016\n",
      "22                    Varshit                  2      March2016\n",
      "23             Stuart Russell                  1      March2016\n",
      "24               chiragvartak                  1      March2016\n",
      "25                   Mort Yao                  1      March2016\n",
      "26       Surya Teja Cheedella                  1      March2016\n",
      "27            Utkarsh Agrawal                  1      March2016\n",
      "28                Lucas Moura                  2      March2016\n",
      "29        Tarun Kumar Vangani                 10      April2016\n",
      "..                        ...                ...            ...\n",
      "48          Chinmaya Pancholi                  1      March2017\n",
      "49               Aditya Harsh                  1      March2017\n",
      "50              Angira Sharma                  2      March2017\n",
      "51       Jacob Kalakal Joseph                  1      March2017\n",
      "52          Sampad Kumar Saha                  2      March2017\n",
      "53                   Zulfikar                  1      March2017\n",
      "54                    VladKha                  1      March2017\n",
      "55               Vidur Satija                  1      March2017\n",
      "56           Pranjal Bhansali                  1      March2017\n",
      "57                    sofmonk                  1      March2017\n",
      "58           Edward Gonsalves                  1      March2017\n",
      "59                Luke Schoen                  3      April2017\n",
      "60              Azizur Rahman                  1      April2017\n",
      "61           Christopher Chen                  1      April2017\n",
      "62                      Allen                  1        May2017\n",
      "63            Anthony Marakis                 11       June2017\n",
      "64                 Luis Martí                  1     August2017\n",
      "65         Vishnu Dutt Sharma                  1     August2017\n",
      "66            Aareon Sullivan                  1  September2017\n",
      "67                   Nick Lee                  1   December2017\n",
      "68                Apurv Bajaj                  2   December2017\n",
      "69             Justin Russell                  1   December2017\n",
      "70  Jonathan Guillotte-Blouin                  1   December2017\n",
      "71                surya saini                  2   December2017\n",
      "72             Pranjal Aswani                  1   December2017\n",
      "73                    Rishav1                  1    January2018\n",
      "74          AdityaDaflapurkar                  2    January2018\n",
      "75                Sagar Gupta                  2    January2018\n",
      "76            Aman Deep Singh                  6   February2018\n",
      "77                Vinay Varma                  3   February2018\n",
      "\n",
      "[78 rows x 3 columns]\n"
     ]
    }
   ],
   "source": [
    "print(table)"
   ]
  },
  {
   "cell_type": "markdown",
   "metadata": {},
   "source": [
    "`get_table_from_dict` gives us the required table fot new committers each month and the number of commits that they do.  \n",
    "Now we'll just use the `pandas.to_csv` function to put this table in a csv file"
   ]
  },
  {
   "cell_type": "code",
   "execution_count": 20,
   "metadata": {},
   "outputs": [],
   "source": [
    "table.to_csv(index_name + \".csv\", index=False)"
   ]
  }
 ],
 "metadata": {
  "kernelspec": {
   "display_name": "Python 3",
   "language": "python",
   "name": "python3"
  },
  "language_info": {
   "codemirror_mode": {
    "name": "ipython",
    "version": 3
   },
   "file_extension": ".py",
   "mimetype": "text/x-python",
   "name": "python",
   "nbconvert_exporter": "python",
   "pygments_lexer": "ipython3",
   "version": "3.6.3"
  }
 },
 "nbformat": 4,
 "nbformat_minor": 2
}
