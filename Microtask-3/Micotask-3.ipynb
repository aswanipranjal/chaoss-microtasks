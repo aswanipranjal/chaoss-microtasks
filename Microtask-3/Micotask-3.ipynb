{
 "cells": [
  {
   "cell_type": "markdown",
   "metadata": {},
   "source": [
    "## This is the third microtask for the project: Reporting CHAOSS Metrics under the CHAOSS org in GSoC-18."
   ]
  },
  {
   "cell_type": "markdown",
   "metadata": {},
   "source": [
    "This task is to: ***Produce a listing of repositories, as a table and as CSV file, with the number of commits authored, issues opened, and pull requests opened, during the last three months, ordered by the total number (commits plus issues plus pull requests)***"
   ]
  },
  {
   "cell_type": "markdown",
   "metadata": {},
   "source": [
    "For this task, the flow will be like this:\n",
    "- Select the repositories to be analysed\n",
    "- Using Perceval query the data sources and index them into elasticsearch\n",
    "- Get the `Git` and `GitHub` **Indices** from elasticsearch Indices having the same base repository\n",
    "- Query these **Indices** for relevant data (Pull requests, Commits, Issues opened in the last 3 months)\n",
    "- Sort the Indices according to the relevant fields and generate tables/CSV files"
   ]
  },
  {
   "cell_type": "markdown",
   "metadata": {},
   "source": [
    "We start by importing the necessary libraries and defining the necessary variables:"
   ]
  },
  {
   "cell_type": "code",
   "execution_count": 1,
   "metadata": {},
   "outputs": [],
   "source": [
    "import subprocess\n",
    "\n",
    "from dateutil.relativedelta import relativedelta\n",
    "from elasticsearch import Elasticsearch\n",
    "from elasticsearch_dsl import Search\n",
    "from pprint import pprint\n",
    "\n",
    "import pandas as pd\n",
    "\n",
    "es = Elasticsearch()"
   ]
  },
  {
   "cell_type": "markdown",
   "metadata": {},
   "source": [
    "### Data Preparation\n",
    "\n",
    "This is the initial data preperation step. If you already have some indices in your local elasticsearch instance, you can skip this step and go directly to [Analysis](#Analysis)."
   ]
  },
  {
   "cell_type": "code",
   "execution_count": 2,
   "metadata": {},
   "outputs": [],
   "source": [
    "ES_URL = 'http://localhost:9200'\n",
    "\n",
    "# We are going to add 3 repositories into the local elasticsearch cluster.\n",
    "# You can add more repositories by adding their information into the list below.\n",
    "repositories = [\n",
    "    {\n",
    "        'repo_url' : 'https://github.com/aimacode/aima-python.git',\n",
    "        'org_name' : 'aimacode',\n",
    "        'repo_name' : 'aima-python',\n",
    "        'git_enrich' : 'aima_python_git',\n",
    "        'git_raw' : 'aima_python_git_raw',\n",
    "        'github_enrich' : 'aima_python_github',\n",
    "        'github_raw' : 'aima_python_github_raw'\n",
    "    },\n",
    "    {\n",
    "        'repo_url' : 'https://github.com/chaoss/grimoirelab-perceval.git',\n",
    "        'org_name' : 'chaoss',\n",
    "        'repo_name' : 'grimoirelab-perceval',\n",
    "        'git_enrich' : 'perceval_git',\n",
    "        'git_raw' : 'perceval_git_raw',\n",
    "        'github_enrich' : 'perceval_github',\n",
    "        'github_raw' : 'perceval_github_raw'\n",
    "    },\n",
    "    {\n",
    "        'repo_url' : 'https://github.com/chaoss/grimoirelab-elk.git',\n",
    "        'org_name' : 'chaoss',\n",
    "        'repo_name' : 'grimoirelab-elk',\n",
    "        'git_enrich' : 'grimoireelk_git',\n",
    "        'git_raw' : 'grimoireelk_git_raw',\n",
    "        'github_enrich' : 'grimoireelk_github',\n",
    "        'github_raw' : 'grimoireelk_github_raw'\n",
    "    }\n",
    "]\n",
    "\n",
    "# Github access token\n",
    "token = '<YOUR GITHUB TOKEN GOES HERE>'"
   ]
  },
  {
   "cell_type": "markdown",
   "metadata": {},
   "source": [
    "Now we will use `p2o.py` to get the repositories and insert them into elasticsearch and enrich them."
   ]
  },
  {
   "cell_type": "code",
   "execution_count": 3,
   "metadata": {},
   "outputs": [
    {
     "name": "stdout",
     "output_type": "stream",
     "text": [
      "inserting git data for repo:  aima-python\n",
      "inserting github data for repo:  aima-python\n",
      "\n",
      "inserting git data for repo:  grimoirelab-perceval\n",
      "inserting github data for repo:  grimoirelab-perceval\n",
      "\n",
      "inserting git data for repo:  grimoirelab-elk\n",
      "inserting github data for repo:  grimoirelab-elk\n",
      "\n"
     ]
    }
   ],
   "source": [
    "for repo in repositories:\n",
    "    print('inserting git data for repo: ', repo['repo_name'])\n",
    "    subprocess.run(['p2o.py', '--enrich', '--index', repo['git_raw'],\n",
    "      '--index-enrich', repo['git_enrich'], '-e', ES_URL,\n",
    "      '--no_inc', '--debug', 'git', repo['repo_url']])\n",
    "    \n",
    "    print('inserting github data for repo: ', repo['repo_name'])\n",
    "    subprocess.run(['p2o.py', '--enrich', '--index', repo['github_raw'],\n",
    "      '--index-enrich', repo['github_enrich'], '-e', ES_URL,\n",
    "      '--no_inc', '--debug', 'github', repo['org_name'] , repo['repo_name'],\n",
    "      '-t', token, '--sleep-for-rate'])\n",
    "    \n",
    "    print()"
   ]
  },
  {
   "cell_type": "markdown",
   "metadata": {},
   "source": [
    "<a id='Analysis'></a>\n",
    "### Analysis\n",
    "\n",
    "We initially assume that we do not have any idea about which repositories are present in our instance. Since we have to create a table about all the indices that are present in our local instance, we group these indices according to there `metadata__gelk_backend_name` and their `github_repo` parameters. These will give us the **Git** and **GitHub** indices of each of the repositories stored in elasticsearch.  \n",
    "Then using these index names, we can query elasticsearch and get the number of commits, pull requests and issues opened in the last 3 months.\n",
    "\n",
    "**NOTE: This analysis assumes that the `github_repo` field name for the `Git` and `GitHub` data sources is the same in the corresponding indices for the repositories.**"
   ]
  },
  {
   "cell_type": "code",
   "execution_count": 4,
   "metadata": {},
   "outputs": [
    {
     "name": "stdout",
     "output_type": "stream",
     "text": [
      "Fetching data about:  grimoireelk_github_raw\n",
      "Skipping index:  grimoireelk_github_raw\n",
      "\n",
      "Fetching data about:  grimoireelk_git_raw\n",
      "Skipping index:  grimoireelk_git_raw\n",
      "\n",
      "Fetching data about:  perceval_github\n",
      "repository name: chaoss/grimoirelab-perceval, enrichment type: GitHubEnrich\n",
      "\n",
      "Fetching data about:  aima_python_git\n",
      "repository name: aimacode/aima-python, enrichment type: GitEnrich\n",
      "\n",
      "Fetching data about:  .kibana\n",
      "Skipping index:  .kibana\n",
      "\n",
      "Fetching data about:  perceval_github_raw\n",
      "Skipping index:  perceval_github_raw\n",
      "\n",
      "Fetching data about:  perceval_git\n",
      "repository name: chaoss/grimoirelab-perceval, enrichment type: GitEnrich\n",
      "\n",
      "Fetching data about:  grimoireelk_github\n",
      "repository name: chaoss/grimoirelab-elk, enrichment type: GitHubEnrich\n",
      "\n",
      "Fetching data about:  aima_python_github_raw\n",
      "Skipping index:  aima_python_github_raw\n",
      "\n",
      "Fetching data about:  aima_python_git_raw\n",
      "Skipping index:  aima_python_git_raw\n",
      "\n",
      "Fetching data about:  perceval_git_raw\n",
      "Skipping index:  perceval_git_raw\n",
      "\n",
      "Fetching data about:  aima_python_github\n",
      "repository name: aimacode/aima-python, enrichment type: GitHubEnrich\n",
      "\n",
      "Fetching data about:  grimoireelk_git\n",
      "repository name: chaoss/grimoirelab-elk, enrichment type: GitEnrich\n",
      "\n"
     ]
    }
   ],
   "source": [
    "index_dict = {}\n",
    "\n",
    "for index in es.indices.get_alias(\"*\"):\n",
    "    print(\"Fetching data about: \", index)\n",
    "    s = Search(using=es, index=index)\n",
    "    s = s.source(['metadata__gelk_backend_name', 'github_repo'])\n",
    "    result = s.execute().to_dict()\n",
    "    try:\n",
    "        result = result['hits']['hits'][0]['_source']\n",
    "        repo = result['github_repo']\n",
    "        enrichment_type = result['metadata__gelk_backend_name']\n",
    "        print('repository name: {}, enrichment type: {}'.format(repo, enrichment_type))\n",
    "    except:\n",
    "        print(\"Skipping index: \", index)\n",
    "        print()\n",
    "        continue\n",
    "    if repo not in index_dict.keys():\n",
    "        index_dict[repo] = {}\n",
    "    index_dict[repo][enrichment_type] = index\n",
    "    print()"
   ]
  },
  {
   "cell_type": "markdown",
   "metadata": {},
   "source": [
    "Let's see what the Repositories that we have got"
   ]
  },
  {
   "cell_type": "code",
   "execution_count": 5,
   "metadata": {},
   "outputs": [
    {
     "name": "stdout",
     "output_type": "stream",
     "text": [
      "{'aimacode/aima-python': {'GitEnrich': 'aima_python_git',\n",
      "                          'GitHubEnrich': 'aima_python_github'},\n",
      " 'chaoss/grimoirelab-elk': {'GitEnrich': 'grimoireelk_git',\n",
      "                            'GitHubEnrich': 'grimoireelk_github'},\n",
      " 'chaoss/grimoirelab-perceval': {'GitEnrich': 'perceval_git',\n",
      "                                 'GitHubEnrich': 'perceval_github'}}\n"
     ]
    }
   ],
   "source": [
    "pprint(index_dict)"
   ]
  },
  {
   "cell_type": "markdown",
   "metadata": {},
   "source": [
    "Now, for the main analysis, we will query the `git` and `github` enriched indices and calculate the number of commits, pull requests and issues created."
   ]
  },
  {
   "cell_type": "code",
   "execution_count": 6,
   "metadata": {},
   "outputs": [],
   "source": [
    "# TODO: cleanup code\n",
    "for repo, data in index_dict.items():\n",
    "    # ----- Count the number of commits -----\n",
    "    git_enrich = data['GitEnrich']\n",
    "    s = Search(using=es, index=git_enrich)\n",
    "    # We add the fields that we want in the results.\n",
    "    s = s.source(['commit_date'])\n",
    "    # We are looking for all the commits that were made in the last 3 months.\n",
    "    s = s.filter('range', commit_date={'gte' : 'now-3M'})\n",
    "    # And we are going to arrange all these documents according to \n",
    "    # when they were created in ascending order\n",
    "    s = s.sort({'commit_date': { 'order' : 'asc'}})\n",
    "    # To capture all the documents, we have kept the size as 1000. \n",
    "    # You can change it according to your needs.\n",
    "    s = s[0:1000]\n",
    "    commits = s.execute().to_dict()\n",
    "    num_commits = commits['hits']['total']\n",
    "    index_dict[repo]['num_commits'] = num_commits\n",
    "    # ----- End of querying git data source -----\n",
    "    \n",
    "    # ----- Count the number of issues and PRs -----\n",
    "    github_enrich = data['GitHubEnrich']\n",
    "    s = Search(using=es, index=github_enrich)\n",
    "    # We add the fields that we want in the results.\n",
    "    s = s.source(['created_at', 'item_type'])\n",
    "    # We are looking for all the issues/PRs that were created in the last 3 months.\n",
    "    s = s.filter('range', created_at={'gte' : 'now-3M'})\n",
    "    # And we are going to arrange all these documents according to \n",
    "    # when they were created in ascending order\n",
    "    s = s.sort({'created_at': { 'order' : 'asc'}})\n",
    "    # To capture all the documents, we have kept the size as 1000. \n",
    "    # You can change it according to your needs.\n",
    "    s = s[0:1000]\n",
    "    issues_prs = s.execute().to_dict()['hits']['hits']\n",
    "    issues = 0\n",
    "    prs = 0\n",
    "    for item in issues_prs:\n",
    "        if item['_source']['item_type'] == 'pull request':\n",
    "            prs += 1\n",
    "        else:\n",
    "            issues += 1\n",
    "    index_dict[repo]['num_issues'] = issues\n",
    "    index_dict[repo]['num_prs'] = prs\n",
    "    # -----End of querying github data source -----\n",
    "    \n",
    "    # calculate the total:\n",
    "    index_dict[repo]['total'] = issues + prs + num_commits"
   ]
  },
  {
   "cell_type": "code",
   "execution_count": 7,
   "metadata": {},
   "outputs": [
    {
     "data": {
      "text/plain": [
       "{'aimacode/aima-python': {'GitEnrich': 'aima_python_git',\n",
       "  'GitHubEnrich': 'aima_python_github',\n",
       "  'num_commits': 81,\n",
       "  'num_issues': 57,\n",
       "  'num_prs': 116,\n",
       "  'total': 254},\n",
       " 'chaoss/grimoirelab-elk': {'GitEnrich': 'grimoireelk_git',\n",
       "  'GitHubEnrich': 'grimoireelk_github',\n",
       "  'num_commits': 170,\n",
       "  'num_issues': 14,\n",
       "  'num_prs': 80,\n",
       "  'total': 264},\n",
       " 'chaoss/grimoirelab-perceval': {'GitEnrich': 'perceval_git',\n",
       "  'GitHubEnrich': 'perceval_github',\n",
       "  'num_commits': 232,\n",
       "  'num_issues': 19,\n",
       "  'num_prs': 79,\n",
       "  'total': 330}}"
      ]
     },
     "execution_count": 7,
     "metadata": {},
     "output_type": "execute_result"
    }
   ],
   "source": [
    "index_dict"
   ]
  },
  {
   "cell_type": "markdown",
   "metadata": {},
   "source": [
    "Converting the above dictionary into a pandas DataFrame"
   ]
  },
  {
   "cell_type": "code",
   "execution_count": 8,
   "metadata": {},
   "outputs": [],
   "source": [
    "data_list = []\n",
    "for repo, data in index_dict.items():\n",
    "    data['repository'] = repo\n",
    "    data_list.append(data)\n",
    "\n",
    "indices = pd.DataFrame(data_list)"
   ]
  },
  {
   "cell_type": "code",
   "execution_count": 9,
   "metadata": {},
   "outputs": [],
   "source": [
    "indices.sort_values(by=['total'], inplace=True)"
   ]
  },
  {
   "cell_type": "code",
   "execution_count": 10,
   "metadata": {},
   "outputs": [
    {
     "data": {
      "text/html": [
       "<div>\n",
       "<table border=\"1\" class=\"dataframe\">\n",
       "  <thead>\n",
       "    <tr style=\"text-align: right;\">\n",
       "      <th></th>\n",
       "      <th>GitEnrich</th>\n",
       "      <th>GitHubEnrich</th>\n",
       "      <th>num_commits</th>\n",
       "      <th>num_issues</th>\n",
       "      <th>num_prs</th>\n",
       "      <th>repository</th>\n",
       "      <th>total</th>\n",
       "    </tr>\n",
       "  </thead>\n",
       "  <tbody>\n",
       "    <tr>\n",
       "      <th>1</th>\n",
       "      <td>aima_python_git</td>\n",
       "      <td>aima_python_github</td>\n",
       "      <td>81</td>\n",
       "      <td>57</td>\n",
       "      <td>116</td>\n",
       "      <td>aimacode/aima-python</td>\n",
       "      <td>254</td>\n",
       "    </tr>\n",
       "    <tr>\n",
       "      <th>2</th>\n",
       "      <td>grimoireelk_git</td>\n",
       "      <td>grimoireelk_github</td>\n",
       "      <td>170</td>\n",
       "      <td>14</td>\n",
       "      <td>80</td>\n",
       "      <td>chaoss/grimoirelab-elk</td>\n",
       "      <td>264</td>\n",
       "    </tr>\n",
       "    <tr>\n",
       "      <th>0</th>\n",
       "      <td>perceval_git</td>\n",
       "      <td>perceval_github</td>\n",
       "      <td>232</td>\n",
       "      <td>19</td>\n",
       "      <td>79</td>\n",
       "      <td>chaoss/grimoirelab-perceval</td>\n",
       "      <td>330</td>\n",
       "    </tr>\n",
       "  </tbody>\n",
       "</table>\n",
       "</div>"
      ],
      "text/plain": [
       "         GitEnrich        GitHubEnrich  num_commits  num_issues  num_prs  \\\n",
       "1  aima_python_git  aima_python_github           81          57      116   \n",
       "2  grimoireelk_git  grimoireelk_github          170          14       80   \n",
       "0     perceval_git     perceval_github          232          19       79   \n",
       "\n",
       "                    repository  total  \n",
       "1         aimacode/aima-python    254  \n",
       "2       chaoss/grimoirelab-elk    264  \n",
       "0  chaoss/grimoirelab-perceval    330  "
      ]
     },
     "execution_count": 10,
     "metadata": {},
     "output_type": "execute_result"
    }
   ],
   "source": [
    "indices"
   ]
  },
  {
   "cell_type": "markdown",
   "metadata": {},
   "source": [
    "Finally, save this dataframe into a csv file named: Indices.csv"
   ]
  },
  {
   "cell_type": "code",
   "execution_count": 11,
   "metadata": {},
   "outputs": [],
   "source": [
    "indices.to_csv('Indices.csv', index=False)"
   ]
  },
  {
   "cell_type": "markdown",
   "metadata": {},
   "source": [
    "This concludes our 3rd microtask."
   ]
  }
 ],
 "metadata": {
  "kernelspec": {
   "display_name": "Python 3",
   "language": "python",
   "name": "python3"
  },
  "language_info": {
   "codemirror_mode": {
    "name": "ipython",
    "version": 3
   },
   "file_extension": ".py",
   "mimetype": "text/x-python",
   "name": "python",
   "nbconvert_exporter": "python",
   "pygments_lexer": "ipython3",
   "version": "3.6.3"
  }
 },
 "nbformat": 4,
 "nbformat_minor": 2
}
