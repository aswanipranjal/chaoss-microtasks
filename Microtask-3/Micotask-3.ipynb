{
 "cells": [
  {
   "cell_type": "code",
   "execution_count": 19,
   "metadata": {},
   "outputs": [],
   "source": [
    "import requests\n",
    "import json\n",
    "from datetime import datetime, date\n",
    "from dateutil.relativedelta import relativedelta"
   ]
  },
  {
   "cell_type": "code",
   "execution_count": 70,
   "metadata": {},
   "outputs": [
    {
     "name": "stdout",
     "output_type": "stream",
     "text": [
      "2017-12-03\n"
     ]
    }
   ],
   "source": [
    "date_to_query = date.isoformat(datetime.today() - relativedelta(months=+3))\n",
    "print(date_to_query)"
   ]
  },
  {
   "cell_type": "code",
   "execution_count": 71,
   "metadata": {},
   "outputs": [],
   "source": [
    "token = '<YOUR TOKEN GOES HERE>'"
   ]
  },
  {
   "cell_type": "code",
   "execution_count": 72,
   "metadata": {},
   "outputs": [],
   "source": [
    "url = 'https://api.github.com/search/repositories'"
   ]
  },
  {
   "cell_type": "code",
   "execution_count": 73,
   "metadata": {},
   "outputs": [],
   "source": [
    "headers = {\n",
    "    'Accept': 'application/vnd.github.v3.text-match+json',   \n",
    "}"
   ]
  },
  {
   "cell_type": "code",
   "execution_count": 74,
   "metadata": {},
   "outputs": [],
   "source": [
    "params = {\n",
    "    'q': 'language:python',\n",
    "    'created': '>' + date_to_query,\n",
    "    'sort': 'updated',\n",
    "    'order': 'asc',\n",
    "    'access_token': token\n",
    "    \n",
    "}"
   ]
  },
  {
   "cell_type": "code",
   "execution_count": 75,
   "metadata": {},
   "outputs": [],
   "source": [
    "r = requests.get(url=url, headers=headers, params=params)"
   ]
  },
  {
   "cell_type": "code",
   "execution_count": 76,
   "metadata": {},
   "outputs": [
    {
     "data": {
      "text/plain": [
       "200"
      ]
     },
     "execution_count": 76,
     "metadata": {},
     "output_type": "execute_result"
    }
   ],
   "source": [
    "r.status_code"
   ]
  },
  {
   "cell_type": "code",
   "execution_count": 77,
   "metadata": {},
   "outputs": [],
   "source": [
    "repos = r.json()"
   ]
  },
  {
   "cell_type": "code",
   "execution_count": 78,
   "metadata": {},
   "outputs": [
    {
     "data": {
      "text/plain": [
       "dict"
      ]
     },
     "execution_count": 78,
     "metadata": {},
     "output_type": "execute_result"
    }
   ],
   "source": [
    "type(repos)"
   ]
  },
  {
   "cell_type": "code",
   "execution_count": 79,
   "metadata": {},
   "outputs": [
    {
     "data": {
      "text/plain": [
       "{'archive_url': 'https://api.github.com/repos/alex/pyelection/{archive_format}{/ref}',\n",
       " 'archived': False,\n",
       " 'assignees_url': 'https://api.github.com/repos/alex/pyelection/assignees{/user}',\n",
       " 'blobs_url': 'https://api.github.com/repos/alex/pyelection/git/blobs{/sha}',\n",
       " 'branches_url': 'https://api.github.com/repos/alex/pyelection/branches{/branch}',\n",
       " 'clone_url': 'https://github.com/alex/pyelection.git',\n",
       " 'collaborators_url': 'https://api.github.com/repos/alex/pyelection/collaborators{/collaborator}',\n",
       " 'comments_url': 'https://api.github.com/repos/alex/pyelection/comments{/number}',\n",
       " 'commits_url': 'https://api.github.com/repos/alex/pyelection/commits{/sha}',\n",
       " 'compare_url': 'https://api.github.com/repos/alex/pyelection/compare/{base}...{head}',\n",
       " 'contents_url': 'https://api.github.com/repos/alex/pyelection/contents/{+path}',\n",
       " 'contributors_url': 'https://api.github.com/repos/alex/pyelection/contributors',\n",
       " 'created_at': '2008-02-24T20:45:10Z',\n",
       " 'default_branch': 'master',\n",
       " 'deployments_url': 'https://api.github.com/repos/alex/pyelection/deployments',\n",
       " 'description': 'A python application for following the US primaries',\n",
       " 'downloads_url': 'https://api.github.com/repos/alex/pyelection/downloads',\n",
       " 'events_url': 'https://api.github.com/repos/alex/pyelection/events',\n",
       " 'fork': False,\n",
       " 'forks': 0,\n",
       " 'forks_count': 0,\n",
       " 'forks_url': 'https://api.github.com/repos/alex/pyelection/forks',\n",
       " 'full_name': 'alex/pyelection',\n",
       " 'git_commits_url': 'https://api.github.com/repos/alex/pyelection/git/commits{/sha}',\n",
       " 'git_refs_url': 'https://api.github.com/repos/alex/pyelection/git/refs{/sha}',\n",
       " 'git_tags_url': 'https://api.github.com/repos/alex/pyelection/git/tags{/sha}',\n",
       " 'git_url': 'git://github.com/alex/pyelection.git',\n",
       " 'has_downloads': True,\n",
       " 'has_issues': True,\n",
       " 'has_pages': False,\n",
       " 'has_projects': True,\n",
       " 'has_wiki': True,\n",
       " 'homepage': '',\n",
       " 'hooks_url': 'https://api.github.com/repos/alex/pyelection/hooks',\n",
       " 'html_url': 'https://github.com/alex/pyelection',\n",
       " 'id': 1124,\n",
       " 'issue_comment_url': 'https://api.github.com/repos/alex/pyelection/issues/comments{/number}',\n",
       " 'issue_events_url': 'https://api.github.com/repos/alex/pyelection/issues/events{/number}',\n",
       " 'issues_url': 'https://api.github.com/repos/alex/pyelection/issues{/number}',\n",
       " 'keys_url': 'https://api.github.com/repos/alex/pyelection/keys{/key_id}',\n",
       " 'labels_url': 'https://api.github.com/repos/alex/pyelection/labels{/name}',\n",
       " 'language': 'Python',\n",
       " 'languages_url': 'https://api.github.com/repos/alex/pyelection/languages',\n",
       " 'license': None,\n",
       " 'merges_url': 'https://api.github.com/repos/alex/pyelection/merges',\n",
       " 'milestones_url': 'https://api.github.com/repos/alex/pyelection/milestones{/number}',\n",
       " 'mirror_url': None,\n",
       " 'name': 'pyelection',\n",
       " 'notifications_url': 'https://api.github.com/repos/alex/pyelection/notifications{?since,all,participating}',\n",
       " 'open_issues': 1,\n",
       " 'open_issues_count': 1,\n",
       " 'owner': {'avatar_url': 'https://avatars2.githubusercontent.com/u/772?v=4',\n",
       "  'events_url': 'https://api.github.com/users/alex/events{/privacy}',\n",
       "  'followers_url': 'https://api.github.com/users/alex/followers',\n",
       "  'following_url': 'https://api.github.com/users/alex/following{/other_user}',\n",
       "  'gists_url': 'https://api.github.com/users/alex/gists{/gist_id}',\n",
       "  'gravatar_id': '',\n",
       "  'html_url': 'https://github.com/alex',\n",
       "  'id': 772,\n",
       "  'login': 'alex',\n",
       "  'organizations_url': 'https://api.github.com/users/alex/orgs',\n",
       "  'received_events_url': 'https://api.github.com/users/alex/received_events',\n",
       "  'repos_url': 'https://api.github.com/users/alex/repos',\n",
       "  'site_admin': False,\n",
       "  'starred_url': 'https://api.github.com/users/alex/starred{/owner}{/repo}',\n",
       "  'subscriptions_url': 'https://api.github.com/users/alex/subscriptions',\n",
       "  'type': 'User',\n",
       "  'url': 'https://api.github.com/users/alex'},\n",
       " 'permissions': {'admin': False, 'pull': True, 'push': False},\n",
       " 'private': False,\n",
       " 'pulls_url': 'https://api.github.com/repos/alex/pyelection/pulls{/number}',\n",
       " 'pushed_at': '2008-03-26T19:22:31Z',\n",
       " 'releases_url': 'https://api.github.com/repos/alex/pyelection/releases{/id}',\n",
       " 'score': 1.0,\n",
       " 'size': 92,\n",
       " 'ssh_url': 'git@github.com:alex/pyelection.git',\n",
       " 'stargazers_count': 4,\n",
       " 'stargazers_url': 'https://api.github.com/repos/alex/pyelection/stargazers',\n",
       " 'statuses_url': 'https://api.github.com/repos/alex/pyelection/statuses/{sha}',\n",
       " 'subscribers_url': 'https://api.github.com/repos/alex/pyelection/subscribers',\n",
       " 'subscription_url': 'https://api.github.com/repos/alex/pyelection/subscription',\n",
       " 'svn_url': 'https://github.com/alex/pyelection',\n",
       " 'tags_url': 'https://api.github.com/repos/alex/pyelection/tags',\n",
       " 'teams_url': 'https://api.github.com/repos/alex/pyelection/teams',\n",
       " 'text_matches': [],\n",
       " 'trees_url': 'https://api.github.com/repos/alex/pyelection/git/trees{/sha}',\n",
       " 'updated_at': '2017-08-16T13:30:28Z',\n",
       " 'url': 'https://api.github.com/repos/alex/pyelection',\n",
       " 'watchers': 4,\n",
       " 'watchers_count': 4}"
      ]
     },
     "execution_count": 79,
     "metadata": {},
     "output_type": "execute_result"
    }
   ],
   "source": [
    "repos['items'][0]"
   ]
  }
 ],
 "metadata": {
  "kernelspec": {
   "display_name": "Python 3",
   "language": "python",
   "name": "python3"
  },
  "language_info": {
   "codemirror_mode": {
    "name": "ipython",
    "version": 3
   },
   "file_extension": ".py",
   "mimetype": "text/x-python",
   "name": "python",
   "nbconvert_exporter": "python",
   "pygments_lexer": "ipython3",
   "version": "3.6.3"
  }
 },
 "nbformat": 4,
 "nbformat_minor": 2
}
