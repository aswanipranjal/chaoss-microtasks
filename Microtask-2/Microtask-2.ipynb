{
 "cells": [
  {
   "cell_type": "markdown",
   "metadata": {},
   "source": [
    "## This is the second microtask for the project: Reporting CHAOSS Metrics under the CHAOSS org in GSoC-18."
   ]
  },
  {
   "cell_type": "markdown",
   "metadata": {},
   "source": [
    "The task is to: ***Produce a chart showing the distribution of time-to-close (using the corresponding field in the GrimoireLab enriched index for GitHub issues) for issues already closed, and opened during the last six months.***"
   ]
  },
  {
   "cell_type": "markdown",
   "metadata": {},
   "source": [
    "We start by importing the necessary modules."
   ]
  },
  {
   "cell_type": "code",
   "execution_count": 5,
   "metadata": {},
   "outputs": [],
   "source": [
    "from datetime import datetime, timedelta\n",
    "from elasticsearch import Elasticsearch\n",
    "from IPython.display import display\n",
    "from dateutil.relativedelta import relativedelta\n",
    "from calendar import monthrange, month_name\n",
    "from collections import defaultdict, OrderedDict\n",
    "from elasticsearch_dsl import Search\n",
    "from pprint import pprint\n",
    "\n",
    "import subprocess\n",
    "import pandas as pd"
   ]
  },
  {
   "cell_type": "markdown",
   "metadata": {},
   "source": [
    "And by specifying the necessary variables."
   ]
  },
  {
   "cell_type": "code",
   "execution_count": 6,
   "metadata": {},
   "outputs": [],
   "source": [
    "# Elasticsearch should be running at this URL, otherwise the next command will give and error\n",
    "ES_URL = \"http://localhost:9200\" \n",
    "\n",
    "es = Elasticsearch(ES_URL, verify_certs = False)\n",
    "\n",
    "# details of the repository to be analysed\n",
    "parent_org_of_repo = \"aimacode\"\n",
    "name_of_repo = \"aima-python\"\n",
    "\n",
    "# Names of the indices by which the repository will be stored\n",
    "enriched_index_name = \"aima_python_github\"\n",
    "raw_index_name = \"aima_python_github_raw\"\n",
    "\n",
    "# This token will allow us to call GitHub's api without being rate limited \n",
    "github_access_token = \"\""
   ]
  },
  {
   "cell_type": "markdown",
   "metadata": {},
   "source": [
    "There is a much more stringent limit if no token is provided which won't work if we want to request large amount of data. You can learn how to generate your token [here](https://github.com/blog/1509-personal-api-tokens)."
   ]
  },
  {
   "cell_type": "markdown",
   "metadata": {},
   "source": [
    "### Getting the data"
   ]
  },
  {
   "cell_type": "markdown",
   "metadata": {},
   "source": [
    "Now we will use `p2o.py` and **`github`** to get the repository, and insert it into elasticsearch.  \n",
    "This command will index 2 versions of the repository: a raw version and an enriched version.\n",
    "`p2o.py` gets the data for the repository (such as pull request, their creation and closing date, issues and other meta data) and uploads the raw version of it. Then it enriches the data i.e adds paramerets such as `time to close days`, `time open days`, `item type` (pull request or issue) and so on.  \n",
    "These additional fields provide us with more insights to the activity in the repository."
   ]
  },
  {
   "cell_type": "markdown",
   "metadata": {},
   "source": [
    "This command will take some time to run, depending upon the size of the repository. You can refresh and check if any new indices were created at your elasticsearch instance."
   ]
  },
  {
   "cell_type": "code",
   "execution_count": null,
   "metadata": {},
   "outputs": [],
   "source": [
    "subprocess.run(['p2o.py', '--enrich', '--index', raw_index_name,\n",
    "      '--index-enrich', enriched_index_name, '-e', ES_URL,\n",
    "      '--no_inc', '--debug', 'github', parent_org_of_repo , name_of_repo,\n",
    "      '-t', github_access_token, '--sleep-for-rate'])\n",
    "print(\"Done!\")"
   ]
  },
  {
   "cell_type": "markdown",
   "metadata": {},
   "source": [
    "This command can take some time to run."
   ]
  },
  {
   "cell_type": "markdown",
   "metadata": {},
   "source": [
    "### Analysis"
   ]
  },
  {
   "cell_type": "markdown",
   "metadata": {},
   "source": [
    "Unlike the previous task, in this task, we will be making the use of `Elasticsearch_dsl` module. It provides a high level api over `Elasticsearch.py` module which makes creating the queries, adding filters and creating aggregations much easier."
   ]
  },
  {
   "cell_type": "markdown",
   "metadata": {},
   "source": [
    "We start by creating a `Search` object."
   ]
  },
  {
   "cell_type": "code",
   "execution_count": 10,
   "metadata": {},
   "outputs": [],
   "source": [
    "s = Search(using=es, index=enriched_index_name)"
   ]
  },
  {
   "cell_type": "code",
   "execution_count": 11,
   "metadata": {},
   "outputs": [],
   "source": [
    "# We add the fields that we want in the results.\n",
    "s = s.source(['created_at', 'time_to_close_days', 'time_open_days', 'item_type', 'closed_at', 'author_name', \n",
    "              'id_in_repo'])\n",
    "\n",
    "# As we are only looking for issues, we shall specify that in \"item_type\"\n",
    "s = s.filter('terms', item_type=['issue'])\n",
    "\n",
    "# We are looking for all the issues that were created in the last 6 months.\n",
    "s = s.filter('range', created_at={'gte' : 'now-6M'})\n",
    "\n",
    "# And we are going to arrange all these documents according to when they were created in ascending order\n",
    "s = s.sort({'created_at': { 'order' : 'asc'}})\n",
    "\n",
    "# To capture all the documents, we have kept the size as 1000. You can change it according to your needs.\n",
    "s = s[0:1000]"
   ]
  },
  {
   "cell_type": "markdown",
   "metadata": {},
   "source": [
    "This is what the query looks like now:"
   ]
  },
  {
   "cell_type": "code",
   "execution_count": 12,
   "metadata": {},
   "outputs": [
    {
     "data": {
      "text/plain": [
       "{'_source': ['created_at',\n",
       "  'time_to_close_days',\n",
       "  'time_open_days',\n",
       "  'item_type',\n",
       "  'closed_at',\n",
       "  'author_name',\n",
       "  'id_in_repo'],\n",
       " 'from': 0,\n",
       " 'query': {'bool': {'filter': [{'terms': {'item_type': ['issue']}},\n",
       "    {'range': {'created_at': {'gte': 'now-6M'}}}]}},\n",
       " 'size': 1000,\n",
       " 'sort': [{'created_at': {'order': 'asc'}}]}"
      ]
     },
     "execution_count": 12,
     "metadata": {},
     "output_type": "execute_result"
    }
   ],
   "source": [
    "s.to_dict()"
   ]
  },
  {
   "cell_type": "markdown",
   "metadata": {},
   "source": [
    "Let's capture all the results and print one of them"
   ]
  },
  {
   "cell_type": "code",
   "execution_count": 13,
   "metadata": {},
   "outputs": [],
   "source": [
    "result = s.execute()\n",
    "\n",
    "# Convert the above results to a dictionary\n",
    "result = result.to_dict()"
   ]
  },
  {
   "cell_type": "code",
   "execution_count": 14,
   "metadata": {},
   "outputs": [
    {
     "name": "stdout",
     "output_type": "stream",
     "text": [
      "{'_id': '31eb3b1b2808000cd8278e1677c9dd06a85bf607',\n",
      " '_index': 'aima_python_github',\n",
      " '_score': None,\n",
      " '_source': {'author_name': 'Peter Norvig',\n",
      "             'closed_at': '2017-09-09T03:26:01Z',\n",
      "             'created_at': '2017-08-27T17:40:56Z',\n",
      "             'id_in_repo': '636',\n",
      "             'item_type': 'issue',\n",
      "             'time_open_days': 12.41,\n",
      "             'time_to_close_days': 12.41},\n",
      " '_type': 'items',\n",
      " 'sort': [1503855656000]}\n",
      "\n",
      "Total number of docs:  47\n"
     ]
    }
   ],
   "source": [
    "pprint(result['hits']['hits'][0])\n",
    "print()\n",
    "print(\"Total number of docs: \", result['hits']['total'])"
   ]
  },
  {
   "cell_type": "markdown",
   "metadata": {},
   "source": [
    "Let's convert these documents into a Pandas dataframe and do some data preprocessing."
   ]
  },
  {
   "cell_type": "code",
   "execution_count": 17,
   "metadata": {},
   "outputs": [],
   "source": [
    "issues = [issue['_source'] for issue in result['hits']['hits']]\n",
    "\n",
    "issues = pd.DataFrame(issues)\n",
    "\n",
    "# We fill all te NaN values with zero\n",
    "issues = issues.fillna(0)"
   ]
  },
  {
   "cell_type": "markdown",
   "metadata": {},
   "source": [
    "Now, using pandas.DataFrame.plot function, we can plot the `time_open_days`, `time_to_close_days` and the `issue id`."
   ]
  },
  {
   "cell_type": "code",
   "execution_count": 19,
   "metadata": {},
   "outputs": [
    {
     "data": {
      "image/png": "[encoded data removed]",
      "text/plain": [
       "<matplotlib.figure.Figure at 0x107cdf438>"
      ]
     },
     "metadata": {},
     "output_type": "display_data"
    }
   ],
   "source": [
    "issues.plot(x=issues['id_in_repo'], kind='bar', figsize=(15,20));"
   ]
  },
  {
   "cell_type": "markdown",
   "metadata": {},
   "source": [
    "This concludes our second Microtask."
   ]
  }
 ],
 "metadata": {
  "kernelspec": {
   "display_name": "Python 3",
   "language": "python",
   "name": "python3"
  },
  "language_info": {
   "codemirror_mode": {
    "name": "ipython",
    "version": 3
   },
   "file_extension": ".py",
   "mimetype": "text/x-python",
   "name": "python",
   "nbconvert_exporter": "python",
   "pygments_lexer": "ipython3",
   "version": "3.6.3"
  }
 },
 "nbformat": 4,
 "nbformat_minor": 2
}
